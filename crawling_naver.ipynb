{
 "cells": [
  {
   "cell_type": "code",
   "execution_count": 1,
   "metadata": {},
   "outputs": [],
   "source": [
    "import requests\n",
    "from bs4 import BeautifulSoup\n",
    "import pandas as pd\n",
    "import numpy as np\n",
    "import csv\n",
    "import time\n",
    "import random"
   ]
  },
  {
   "cell_type": "code",
   "execution_count": 4,
   "metadata": {
    "scrolled": true
   },
   "outputs": [
    {
     "name": "stdout",
     "output_type": "stream",
     "text": [
      "['2020.01.23', '2020.01.23', '2020.01.23', '2020.01.23', '2020.01.23', '2020.01.23', '2020.01.23', '2020.01.23', '2020.01.23', '2020.01.23', '2020.01.23', '2020.01.23', '2020.01.23', '2020.01.23', '2020.01.23', '2020.01.23', '2020.01.23', '2020.01.23', '2020.01.23', '2020.01.23']\n"
     ]
    }
   ],
   "source": [
    "headers = {'User-Agent':'Mozilla/5.0 (Windows NT 6.3; Win64; x64) AppleWebKit/537.36 (KHTML, like Gecko) Chrome/63.0.3239.132 Safari/537.36'}\n",
    "# 유저정보\n",
    "\n",
    "url ='https://finance.naver.com/item/board.nhn?code=019170&page=28387'\n",
    "html = requests.get(url, headers = headers).text\n",
    "soup = BeautifulSoup(html,'html.parser')\n",
    "\n",
    "#t = soup.find_all('span', class_=\"tah p10 gray03\")\n",
    "t = soup.find_all('span',{'class':'tah p10 gray03'})\n",
    "date = [i.text[0:10] for i in t[0::2]]\n",
    "print(date)\n"
   ]
  },
  {
   "cell_type": "code",
   "execution_count": 5,
   "metadata": {},
   "outputs": [],
   "source": [
    "def crawling(numpage):\n",
    "    results =[]\n",
    "    for i in range(numpage+1):\n",
    "        url = \"https://finance.naver.com/item/board.nhn?code=019170&page=%s\"%i\n",
    "        html = requests.get(url, headers = headers).text\n",
    "        soup = BeautifulSoup(html,'html.parser') \n",
    "        t = soup.find_all('span',{'class':'tah p10 gray03'})\n",
    "        for i in t[0::2]:\n",
    "            date = []\n",
    "            date.append(i.text[0:10])\n",
    "            results.append(date)\n",
    "        rand_value = random.randint(1, 5)/10\n",
    "        time.sleep(rand_value)\n",
    "    return(results)\n",
    "                     \n",
    "def toCSV(results):\n",
    "    file = open('sinpung_date2.csv', 'w', encoding='utf-8', newline='')  #5000  5000~10000 : 1\n",
    "    csvfile = csv.writer(file)\n",
    "    for row in results :\n",
    "        csvfile.writerow(row)\n",
    "    file.close()\n",
    "                     \n",
    "sinpung_date = crawling(1)                   \n",
    "toCSV(sinpung_date)"
   ]
  },
  {
   "cell_type": "code",
   "execution_count": null,
   "metadata": {},
   "outputs": [],
   "source": []
  }
 ],
 "metadata": {
  "kernelspec": {
   "display_name": "Python 3",
   "language": "python",
   "name": "python3"
  },
  "language_info": {
   "codemirror_mode": {
    "name": "ipython",
    "version": 3
   },
   "file_extension": ".py",
   "mimetype": "text/x-python",
   "name": "python",
   "nbconvert_exporter": "python",
   "pygments_lexer": "ipython3",
   "version": "3.7.9"
  },
  "pycharm": {
   "stem_cell": {
    "cell_type": "raw",
    "metadata": {
     "collapsed": false
    },
    "source": [
     "\n",
     "\n",
     "\n",
     "\n"
    ]
   }
  }
 },
 "nbformat": 4,
 "nbformat_minor": 1
}
